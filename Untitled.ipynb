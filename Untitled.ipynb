{
 "cells": [
  {
   "cell_type": "code",
   "execution_count": 3,
   "id": "27e5023e-792d-498b-9cc4-bd6f5efc2f24",
   "metadata": {},
   "outputs": [
    {
     "ename": "ModuleNotFoundError",
     "evalue": "No module named 'flair'",
     "output_type": "error",
     "traceback": [
      "\u001b[1;31m---------------------------------------------------------------------------\u001b[0m",
      "\u001b[1;31mModuleNotFoundError\u001b[0m                       Traceback (most recent call last)",
      "Cell \u001b[1;32mIn[3], line 35\u001b[0m\n\u001b[0;32m      1\u001b[0m \u001b[38;5;124;03m\"\"\"\u001b[39;00m\n\u001b[0;32m      2\u001b[0m \u001b[38;5;124;03mfrom flair.data import Sentence\u001b[39;00m\n\u001b[0;32m      3\u001b[0m \u001b[38;5;124;03mfrom flair.models import SequenceTagger\u001b[39;00m\n\u001b[1;32m   (...)\u001b[0m\n\u001b[0;32m     33\u001b[0m \n\u001b[0;32m     34\u001b[0m \u001b[38;5;124;03m\"\"\"\u001b[39;00m\n\u001b[1;32m---> 35\u001b[0m \u001b[38;5;28;01mfrom\u001b[39;00m \u001b[38;5;21;01mflair\u001b[39;00m\u001b[38;5;21;01m.\u001b[39;00m\u001b[38;5;21;01mdata\u001b[39;00m \u001b[38;5;28;01mimport\u001b[39;00m Sentence\n\u001b[0;32m     36\u001b[0m \u001b[38;5;28;01mfrom\u001b[39;00m \u001b[38;5;21;01mflair\u001b[39;00m\u001b[38;5;21;01m.\u001b[39;00m\u001b[38;5;21;01mmodels\u001b[39;00m \u001b[38;5;28;01mimport\u001b[39;00m SequenceTagger\n\u001b[0;32m     38\u001b[0m \u001b[38;5;28;01mdef\u001b[39;00m \u001b[38;5;21mner_classification\u001b[39m(text_list):\n\u001b[0;32m     39\u001b[0m     \u001b[38;5;66;03m# Load the pre-trained NER model\u001b[39;00m\n",
      "\u001b[1;31mModuleNotFoundError\u001b[0m: No module named 'flair'"
     ]
    }
   ],
   "source": [
    "\"\"\"\n",
    "from flair.data import Sentence\n",
    "from flair.models import SequenceTagger\n",
    "\n",
    "\n",
    "def ner_classification(text):\n",
    "    # Load the pre-trained NER model\n",
    "    tagger = SequenceTagger.load('ner')\n",
    "\n",
    "    entities = []\n",
    "\n",
    "    # Create a sentence object\n",
    "    sentence = Sentence(text)\n",
    "\n",
    "    # Predict NER tags\n",
    "    tagger.predict(sentence)\n",
    "\n",
    "    # Extract entities and their labels\n",
    "    for entity in sentence.get_spans('ner'):\n",
    "        entities.append((entity.text, entity.tag))\n",
    "\n",
    "    return entities\n",
    "\n",
    "\n",
    "# Example usage\n",
    "text = \"Baumann P, Benson FE, West SC. Human Rad51 Protein Promotes ATP-Dependent Homologous Pairing and Strand Transfer Reactions In Vitro. Cell 1996;87:757-66. New York is a vibrant city.\"\n",
    "entities = ner_classification(text)\n",
    "\n",
    "for entity, label in entities:\n",
    "    print(\"Entity:\", entity)\n",
    "    print(\"Label:\", label)\n",
    "    print()\n",
    "\n",
    "\"\"\"\n",
    "from flair.data import Sentence\n",
    "from flair.models import SequenceTagger\n",
    "\n",
    "def ner_classification(text_list):\n",
    "    # Load the pre-trained NER model\n",
    "    tagger = SequenceTagger.load('ner')\n",
    "\n",
    "    entities = []\n",
    "\n",
    "    for text in text_list:\n",
    "        # Create a sentence object\n",
    "        sentence = Sentence(text)\n",
    "\n",
    "        # Predict NER tags\n",
    "        tagger.predict(sentence)\n",
    "\n",
    "        # Extract entities and their labels\n",
    "        for entity in sentence.get_spans('ner'):\n",
    "            entities.append((entity.text, entity.tag))\n",
    "\n",
    "    return entities\n",
    "\n",
    "# Example usage\n",
    "text_list = ['Baumann P,', 'Benson FE,', 'West SC,', 'Human Rad51 Protein Promotes ATP-Dependent Homologous Pairing and Strand Transfer Reactions In Vitro.',\n",
    "             '1996;', '87:', '757-66.', 'https://doi.org/10.1016/S0092-8674(00)81394-X.']\n",
    "entities = ner_classification(text_list)\n",
    "\n",
    "for entity, label in entities:\n",
    "    print(\"Entity:\", entity)\n",
    "    print(\"Label:\", label)\n",
    "    print()\n"
   ]
  },
  {
   "cell_type": "code",
   "execution_count": null,
   "id": "f3694407-1b89-45e7-9b05-ae18c3e9e6c1",
   "metadata": {},
   "outputs": [],
   "source": [
    "\n",
    "\n",
    "\n"
   ]
  },
  {
   "cell_type": "code",
   "execution_count": null,
   "id": "e9f7b3de",
   "metadata": {},
   "outputs": [],
   "source": []
  }
 ],
 "metadata": {
  "kernelspec": {
   "display_name": "Python 3 (ipykernel)",
   "language": "python",
   "name": "python3"
  },
  "language_info": {
   "codemirror_mode": {
    "name": "ipython",
    "version": 3
   },
   "file_extension": ".py",
   "mimetype": "text/x-python",
   "name": "python",
   "nbconvert_exporter": "python",
   "pygments_lexer": "ipython3",
   "version": "3.11.4"
  }
 },
 "nbformat": 4,
 "nbformat_minor": 5
}
